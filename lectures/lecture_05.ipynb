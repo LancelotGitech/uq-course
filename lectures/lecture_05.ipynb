{
 "cells": [
  {
   "cell_type": "markdown",
   "metadata": {},
   "source": [
    "# Lecture 5: Introduction to Probability Theory (Part III)"
   ]
  },
  {
   "cell_type": "markdown",
   "metadata": {},
   "source": [
    "## Objectives\n",
    "\n",
    "+ To introduce continuous random variables.\n",
    "+ To introduce the cumulative distribution function and its properties.\n",
    "+ To introduce the probability density function and its properties.\n",
    "+ To introduce the expectation of continuous random variables.\n",
    "+ To introduce the concept of the joint probability density function.\n",
    "+ To present some simple analytical examples Bayesian inference."
   ]
  },
  {
   "cell_type": "markdown",
   "metadata": {},
   "source": [
    "## Readings\n",
    "\n",
    "+ These notes."
   ]
  },
  {
   "cell_type": "code",
   "execution_count": 1,
   "metadata": {},
   "outputs": [],
   "source": [
    "%matplotlib inline\n",
    "import matplotlib.pyplot as plt\n",
    "import seaborn as sns\n",
    "sns.set_context('talk')\n",
    "import numpy as np"
   ]
  },
  {
   "cell_type": "markdown",
   "metadata": {},
   "source": [
    "## Something more on probability spaces\n",
    "\n",
    "It turns out that when $\\Omega$ is a continuous space, like $\\mathbb{R}$ for example, it is not possible to take $\\mathcal{F}$ to be all the subsets of $\\Omega$ (you need to take a measure-theoretic probability theory class to understand why this is).\n",
    "However, many \"nice\" subsets of $\\Omega$ are usually in $\\mathcal{F}$.\n",
    "For example, in the case of $\\Omega=\\mathbb{R}$, $\\mathcal{F}$ can include all intervals, and any countable unions and intersections of intervals.\n",
    "That's a lot of sets.\n",
    "\n",
    "In any case, $\\mathcal{F}$ must satisfy certain properties for everything to be well-defined.\n",
    "These properties are:\n",
    "+ $\\Omega \\in \\mathcal{F}$\n",
    "+ For any $A$ in $\\mathcal{F}$, the complement $A^c$ is in $\\mathcal{F}$.\n",
    "+ For any $A_1,A_2,\\dots$ in $\\mathcal{F}$, the union $\\cup_n A_n$ is in $\\mathcal{F}$.\n",
    "When a set of subsets $\\mathcal{F}$ satisfies these properties, we say that it forms a $\\sigma$-algebra."
   ]
  },
  {
   "cell_type": "markdown",
   "metadata": {},
   "source": [
    "## Continuous random variables\n",
    "\n",
    "Consider a probability space $(\\Omega, \\mathcal{F}, \\mathbb{P})$.\n",
    "A continuous random variable models the result of an experiment that can potentially take infinitely many values.\n",
    "That is, it is a function\n",
    "$$\n",
    "X:\\Omega \\rightarrow \\mathbb{R}.\n",
    "$$"
   ]
  },
  {
   "cell_type": "markdown",
   "metadata": {},
   "source": [
    "## The cumulative distribution function\n",
    "\n",
    "Let $X$ be a continuous random variable.\n",
    "Its cumulative distribution function (CDF) $F_X(x)$ gives the probability that $X$ is smaller than $x$:\n",
    "$$\n",
    "F_X(x) := \\mathbb{P}(X\\le x) = \\mathbb{P}\\left(\\left\\{\\omega: X(\\omega) \\le x\\right\\}\\right).\n",
    "$$\n",
    "\n",
    "### Properties of the cumulative distribution function\n",
    "\n",
    "+ $F_X(x)$ is an increasing function.\n",
    "+ $F_X(-\\infty) = 0$.\n",
    "+ $F_X(+\\infty) = 1$.\n",
    "+ $\\mathbb{P}(a\\le X \\le b) = F_X(b) - F_X(a)$."
   ]
  },
  {
   "cell_type": "markdown",
   "metadata": {},
   "source": [
    "## The probability density function\n",
    "\n",
    "The probability density function (PDF) is a \"function\" $f_X(x)$ that can give us the probability that $X$ is in any \"good\" subset $A$ of $\\mathbb{R}$ as follows:\n",
    "$$\n",
    "\\mathbb{P}(X\\in A) = \\int_A f_X(x) dx.\n",
    "$$\n",
    "Note that certain random variables may not have a PDF that is a function.\n",
    "That's why I put the word \"function\" in quotes.\n",
    "However, if you allow the PDF to include Dirac's $\\delta$, then any random variable has a PDF.\n",
    "We will ignore this complication for the moment.\n",
    "\n",
    "In this class, we will simplify the notation and we will be writing:\n",
    "$$\n",
    "p(x) \\equiv f_X(x),\n",
    "$$\n",
    "when there is no ambiguity.\n",
    "\n",
    "### Properties of the probability density function\n",
    "+ $p(x) \\ge 0$ for all $x$.\n",
    "+ $\\int_{-\\infty}^{\\infty} p(x) dx = 1$.\n",
    "+ The derivative of the CDF is the PDF, i.e., $F_X'(x) = p(x)$.\n",
    "\n",
    "### Dirac's delta and a unified view of all random variables\n",
    "\n",
    "Dirac's $\\delta$ is a special function, actually called a distribution, which is defined as follows:\n",
    "$$\n",
    "\\delta(x) = 0,\n",
    "$$\n",
    "for $x\\not=0$, and\n",
    "$$\n",
    "\\int_{-\\infty}^\\infty \\delta(x) dx = 0\n",
    "$$\n",
    "You can think of Dirac's $\\delta$ as the PDF of a discrete random variable that takes the value $0$ with probability one.\n",
    "\n",
    "Using Dirac's $\\delta$ you can make any discrete random variable you want look like a continuous random variable.\n",
    "For example, consider a Categorical random variable taking values $x_1,\\dots,x_K$ with probabilities $p_1,\\dots,p_K$.\n",
    "The PDF of this random variable can be written as:\n",
    "$$\n",
    "p(x) = \\sum_{k=1}^Kp_k\\delta(x - x_k).\n",
    "$$\n",
    "\n",
    "The most general random variable one can think of has a PDF that consists of two parts:\n",
    "$$\n",
    "p(x) = f^n_X(x) + f^{\\delta}_X(x),\n",
    "$$\n",
    "a part $f^n_X(x)$ that is a nice proper function and a part $f^{\\delta}_X(x)$ that consists of a weighted sum of Dirac $\\delta$'s. "
   ]
  },
  {
   "cell_type": "markdown",
   "metadata": {},
   "source": [
    "## Expectations of continuous random variables\n",
    "\n",
    "The expectation of a continuous random variable is:\n",
    "$$\n",
    "\\mathbb{E}[X] = \\int_{-\\infty}^\\infty x p(x)dx.\n",
    "$$\n",
    "Its properties are the same as the expectation of a discrete random variable.\n",
    "\n",
    "The expectation of a function of the random variable is:\n",
    "$$\n",
    "\\mathbb{E}[f(X)] = \\int_{-\\infty}^\\infty f(x)p(x)dx.\n",
    "$$\n",
    "\n",
    "In general, using the Dirac $\\delta$ trick we introduced above, there is no need to differentiate between integrations and summations.\n",
    "We can use integration for both continuous and discrete random variables."
   ]
  },
  {
   "cell_type": "markdown",
   "metadata": {},
   "source": [
    "## Example: The uniform distribution\n",
    "\n",
    "The uniform distribution is the most common continuous distribution.\n",
    "It corresponds to a random variable that is equally likely to take a value within a given interval.\n",
    "We write:\n",
    "$$\n",
    "X\\sim U([0,1]),\n",
    "$$\n",
    "and we read $X$ follows a uniform distribution taking values in $[0,1]$.\n",
    "\n",
    "The probability density of the uniform is constant in $[0,1]$ and zero outside it.\n",
    "We have:\n",
    "$$\n",
    "p(x) := U(x|[0,1]) := f_X(x) = \\begin{cases}\n",
    "1,&\\;0\\le x \\le 1,\\\\\n",
    "0,&\\;\\text{otherwise}.\n",
    "\\end{cases}\n",
    "$$\n",
    "\n",
    "The cumulative distribution funciton of the uniform is:\n",
    "$$\n",
    "F_X(x) = \\mathbb{P}(X \\le x) = \\int_0^x f_X(u) du = \\int_0^x du = x.\n",
    "$$\n",
    "\n",
    "$$\n",
    "\\mathbb{P}(a \\le X \\le b) = F_X(b) - F_X(a) = b - a.\n",
    "$$\n",
    "\n",
    "The expectation of the uniform is:\n",
    "$$\n",
    "\\mathbb{E}[X] = \\int_0^1 xdx = \\frac{1}{2}.\n",
    "$$\n",
    "\n",
    "The variance of the uniform is:\n",
    "$$\n",
    "\\mathbb{V}[X] = \\mathbb{E}[X^2] - \\left(\\mathbb{E}[X]\\right)^2 = \\frac{1}{3} - \\frac{1}{4} = \\frac{1}{12}.\n",
    "$$"
   ]
  },
  {
   "cell_type": "code",
   "execution_count": 2,
   "metadata": {},
   "outputs": [
    {
     "data": {
      "text/plain": [
       "array([0.97837346, 0.625879  , 0.52290077, 0.51240399, 0.04980333,\n",
       "       0.59070721, 0.99822886, 0.88110047, 0.77926415, 0.80169289,\n",
       "       0.63377297, 0.4330944 , 0.39263228, 0.87655016, 0.71793991,\n",
       "       0.96914239, 0.98791565, 0.03918648, 0.24459545, 0.32064884,\n",
       "       0.07865616, 0.6215369 , 0.44383284, 0.98624492, 0.23687563,\n",
       "       0.76983114, 0.76920715, 0.12850447, 0.5412241 , 0.54202371,\n",
       "       0.56063597, 0.46389922, 0.41674185, 0.03591847, 0.09757618,\n",
       "       0.15020877, 0.62910003, 0.95689217, 0.59937696, 0.03754368,\n",
       "       0.45902144, 0.18677698, 0.91152939, 0.84733429, 0.57136117,\n",
       "       0.38750976, 0.75984272, 0.82609542, 0.95836646, 0.86262593,\n",
       "       0.71400927, 0.35642015, 0.20075114, 0.23625662, 0.50861275,\n",
       "       0.92449095, 0.59173485, 0.21624696, 0.23393397, 0.76204738,\n",
       "       0.10804259, 0.27232046, 0.51790518, 0.96678481, 0.43760293,\n",
       "       0.56561303, 0.95582303, 0.75536118, 0.40260221, 0.83693531,\n",
       "       0.78007319, 0.28611426, 0.64475304, 0.70836801, 0.23042198,\n",
       "       0.91461071, 0.54027546, 0.20290475, 0.10600445, 0.36341161,\n",
       "       0.58776198, 0.96599455, 0.4787342 , 0.89632266, 0.11829211,\n",
       "       0.53011026, 0.10231121, 0.48088843, 0.68610058, 0.05500749,\n",
       "       0.0664882 , 0.83686234, 0.87464224, 0.5527214 , 0.98598549,\n",
       "       0.83999942, 0.50744833, 0.78022083, 0.94580147, 0.66221155])"
      ]
     },
     "execution_count": 2,
     "metadata": {},
     "output_type": "execute_result"
    }
   ],
   "source": [
    "# Let's demonstrate how you can sample from the uniform\n",
    "import scipy.stats as st\n",
    "X = st.uniform()\n",
    "X.rvs(size=100)"
   ]
  },
  {
   "cell_type": "code",
   "execution_count": 3,
   "metadata": {},
   "outputs": [
    {
     "data": {
      "text/plain": [
       "array([0.70121505, 0.91085994, 0.69158752, 0.11946638, 0.09728609,\n",
       "       0.49065546, 0.27969302, 0.21582279, 0.93441454, 0.41349678,\n",
       "       0.47870551, 0.73636654, 0.13051002, 0.37208425, 0.3116429 ,\n",
       "       0.82258973, 0.23919661, 0.22838676, 0.5542224 , 0.53016444,\n",
       "       0.35530159, 0.09605987, 0.5549514 , 0.60081403, 0.73167165,\n",
       "       0.78542101, 0.32674251, 0.03529146, 0.59239157, 0.90631834,\n",
       "       0.61845217, 0.60454155, 0.17810513, 0.62028272, 0.15576036,\n",
       "       0.65303787, 0.7683246 , 0.49567772, 0.54411001, 0.22508122,\n",
       "       0.84317487, 0.8576526 , 0.66822961, 0.41742108, 0.00306515,\n",
       "       0.87628444, 0.02520404, 0.98943986, 0.00223345, 0.17440434,\n",
       "       0.52514865, 0.00128126, 0.92851971, 0.00146251, 0.49170257,\n",
       "       0.75837021, 0.88191865, 0.29204905, 0.20065024, 0.07695563,\n",
       "       0.1160243 , 0.55381338, 0.82336444, 0.0619979 , 0.49091839,\n",
       "       0.27736099, 0.35720052, 0.12455454, 0.39670171, 0.98057418,\n",
       "       0.65956781, 0.22232854, 0.44287494, 0.4036119 , 0.69792346,\n",
       "       0.10159559, 0.69955144, 0.50623539, 0.7209267 , 0.69582729,\n",
       "       0.16009671, 0.69380665, 0.61887288, 0.66828418, 0.54099226,\n",
       "       0.52855516, 0.62526337, 0.08661942, 0.02498284, 0.9058553 ,\n",
       "       0.43726005, 0.85914546, 0.3964603 , 0.05790563, 0.93392332,\n",
       "       0.51886644, 0.2245634 , 0.03197055, 0.00429038, 0.06374447])"
      ]
     },
     "execution_count": 3,
     "metadata": {},
     "output_type": "execute_result"
    }
   ],
   "source": [
    "# An alternative way is to use the functionality of numpy\n",
    "np.random.rand(100)"
   ]
  },
  {
   "cell_type": "markdown",
   "metadata": {},
   "source": [
    "### Questions\n",
    "\n",
    "+ Modify the code above so that you sample from a uniform distribution taking values in $[2, 5]$?"
   ]
  },
  {
   "cell_type": "markdown",
   "metadata": {},
   "source": [
    "## Joint probability density function\n",
    "\n",
    "Let $X$ and $Y$ be two random variables.\n",
    "There joint probability density $f_{X,Y}(x,y)$ is the function that can give us the probability that the pair $(X,Y)$ belongs to any \"good\" subset $A$ of $\\mathbb{R}^2$ as follows:\n",
    "$$\n",
    "\\mathbb{P}\\left((X,Y)\\in A\\right) = \\int\\int_{A} f_{X,Y}(x,y)dxdy.\n",
    "$$\n",
    "Of course, we will be writing:\n",
    "$$\n",
    "p(x,y) := f_{X,Y}(x,y),\n",
    "$$\n",
    "when there is no ambiguity.\n",
    "\n",
    "If you integrate one of the variables out of the joint, you get the PDF of the other variable.\n",
    "For example:\n",
    "$$\n",
    "p(x) = \\int_{-\\infty}^\\infty p(x,y) dy,\n",
    "$$\n",
    "and\n",
    "$$\n",
    "p(y) = \\int_{-\\infty}^\\infty p(x, y) dx.\n",
    "$$\n",
    "\n",
    "For many random variables $X_1,\\dots,X_N$ their joint PDF $p(x_1,\\dot,x_N)$ is similarly defined.\n",
    "Again, integrating out some variables gives the pdf of the others."
   ]
  },
  {
   "cell_type": "markdown",
   "metadata": {},
   "source": [
    "## Conditioning a random variable on another\n",
    "\n",
    "Consider two random variables $X$ and $Y$.\n",
    "If we had observed that $Y=y$, how would this change the PDF of $X$?\n",
    "The answer is given via Bayes' rule.\n",
    "The PDF of $X$ conditioned on $Y=y$ is:\n",
    "$$\n",
    "p(x|y) = \\frac{p(x,y)}{p(y)}.\n",
    "$$"
   ]
  },
  {
   "cell_type": "markdown",
   "metadata": {},
   "source": [
    "## Example: Inferring the probability of a coin toss from data (1/3)\n",
    "\n",
    "This is our first Bayesian inference example!\n",
    "\n",
    "Let's say that we run a coin toss experiment $N$ times and we wish to figure out the probability of heads.\n",
    "We will bring into the picture all the mathematical machinery we have introduced so far.\n",
    "Let's say that the data we have observe are $x_1,\\dots,x_N$.\n",
    "For notational convenience we will be writing:\n",
    "$$\n",
    "x_{1:N} := (x_1,\\dots,x_N).\n",
    "$$\n",
    "\n",
    "First, let's start with the probability of success of the coin toss.\n",
    "Let's call it $\\theta$.\n",
    "How can we describe our uncertainty about it?\n",
    "We have to assign a *prior* probability distribution on it.\n",
    "Let's say that we don't know anything about it except that it must be between 0 and 1.\n",
    "What distribution should we assign?\n",
    "Of course, a uniform distribution:\n",
    "$$\n",
    "\\theta \\sim U([0,1]).\n",
    "$$\n",
    "Second, each coin toss experiment corresponds to an independent Bernoulli variable with the same probability of success $\\theta$.\n",
    "We write:\n",
    "$$\n",
    "X_n | \\theta \\sim \\operatorname{Bernoulli}(\\theta),\n",
    "$$\n",
    "for $n=1,\\dots,N$.\n",
    "Note that these random variables depend on $\\theta$.\n",
    "That's why we are conditioning like this.\n",
    "\n",
    "Before proceeding with the mathematics, let's draw the graph."
   ]
  },
  {
   "cell_type": "code",
   "execution_count": 4,
   "metadata": {},
   "outputs": [
    {
     "data": {
      "image/svg+xml": [
       "<?xml version=\"1.0\" encoding=\"UTF-8\" standalone=\"no\"?>\n",
       "<!DOCTYPE svg PUBLIC \"-//W3C//DTD SVG 1.1//EN\"\n",
       " \"http://www.w3.org/Graphics/SVG/1.1/DTD/svg11.dtd\">\n",
       "<!-- Generated by graphviz version 2.40.1 (20161225.0304)\n",
       " -->\n",
       "<!-- Title: coin_toss_bayes_1 Pages: 1 -->\n",
       "<svg width=\"62pt\" height=\"116pt\"\n",
       " viewBox=\"0.00 0.00 62.00 116.00\" xmlns=\"http://www.w3.org/2000/svg\" xmlns:xlink=\"http://www.w3.org/1999/xlink\">\n",
       "<g id=\"graph0\" class=\"graph\" transform=\"scale(1 1) rotate(0) translate(4 112)\">\n",
       "<title>coin_toss_bayes_1</title>\n",
       "<polygon fill=\"#ffffff\" stroke=\"transparent\" points=\"-4,4 -4,-112 58,-112 58,4 -4,4\"/>\n",
       "<!-- theta -->\n",
       "<g id=\"node1\" class=\"node\">\n",
       "<title>theta</title>\n",
       "<ellipse fill=\"none\" stroke=\"#000000\" cx=\"27\" cy=\"-90\" rx=\"27\" ry=\"18\"/>\n",
       "<text text-anchor=\"start\" x=\"23\" y=\"-86.3\" font-family=\"Times,serif\" font-size=\"14.00\" fill=\"#000000\">θ</text>\n",
       "</g>\n",
       "<!-- X1 -->\n",
       "<g id=\"node2\" class=\"node\">\n",
       "<title>X1</title>\n",
       "<ellipse fill=\"#d3d3d3\" stroke=\"#000000\" cx=\"27\" cy=\"-18\" rx=\"27\" ry=\"18\"/>\n",
       "<text text-anchor=\"start\" x=\"18.5\" y=\"-15.3\" font-family=\"Times,serif\" font-size=\"14.00\" fill=\"#000000\">X</text>\n",
       "<text text-anchor=\"start\" x=\"29.5\" y=\"-15.3\" font-family=\"Times,serif\" baseline-shift=\"sub\" font-size=\"14.00\" fill=\"#000000\">1</text>\n",
       "</g>\n",
       "<!-- theta&#45;&gt;X1 -->\n",
       "<g id=\"edge1\" class=\"edge\">\n",
       "<title>theta&#45;&gt;X1</title>\n",
       "<path fill=\"none\" stroke=\"#000000\" d=\"M27,-71.8314C27,-64.131 27,-54.9743 27,-46.4166\"/>\n",
       "<polygon fill=\"#000000\" stroke=\"#000000\" points=\"30.5001,-46.4132 27,-36.4133 23.5001,-46.4133 30.5001,-46.4132\"/>\n",
       "</g>\n",
       "</g>\n",
       "</svg>\n"
      ],
      "text/plain": [
       "<graphviz.dot.Digraph at 0x105c31410>"
      ]
     },
     "execution_count": 4,
     "metadata": {},
     "output_type": "execute_result"
    }
   ],
   "source": [
    "# First for one coin toss\n",
    "from graphviz import Digraph\n",
    "gc = Digraph('coin_toss_bayes_1')\n",
    "gc.node('theta', label='<&theta;>')\n",
    "gc.node('X1', label='<X<sub>1</sub>>', style='filled')\n",
    "gc.edge('theta', 'X1')\n",
    "gc.render('coin_toss_bayes_1', format='png')\n",
    "gc"
   ]
  },
  {
   "cell_type": "code",
   "execution_count": 5,
   "metadata": {},
   "outputs": [
    {
     "data": {
      "image/svg+xml": [
       "<?xml version=\"1.0\" encoding=\"UTF-8\" standalone=\"no\"?>\n",
       "<!DOCTYPE svg PUBLIC \"-//W3C//DTD SVG 1.1//EN\"\n",
       " \"http://www.w3.org/Graphics/SVG/1.1/DTD/svg11.dtd\">\n",
       "<!-- Generated by graphviz version 2.40.1 (20161225.0304)\n",
       " -->\n",
       "<!-- Title: coin_toss_bayes_2 Pages: 1 -->\n",
       "<svg width=\"134pt\" height=\"116pt\"\n",
       " viewBox=\"0.00 0.00 134.00 116.00\" xmlns=\"http://www.w3.org/2000/svg\" xmlns:xlink=\"http://www.w3.org/1999/xlink\">\n",
       "<g id=\"graph0\" class=\"graph\" transform=\"scale(1 1) rotate(0) translate(4 112)\">\n",
       "<title>coin_toss_bayes_2</title>\n",
       "<polygon fill=\"#ffffff\" stroke=\"transparent\" points=\"-4,4 -4,-112 130,-112 130,4 -4,4\"/>\n",
       "<!-- theta -->\n",
       "<g id=\"node1\" class=\"node\">\n",
       "<title>theta</title>\n",
       "<ellipse fill=\"none\" stroke=\"#000000\" cx=\"63\" cy=\"-90\" rx=\"27\" ry=\"18\"/>\n",
       "<text text-anchor=\"start\" x=\"59\" y=\"-86.3\" font-family=\"Times,serif\" font-size=\"14.00\" fill=\"#000000\">θ</text>\n",
       "</g>\n",
       "<!-- X1 -->\n",
       "<g id=\"node2\" class=\"node\">\n",
       "<title>X1</title>\n",
       "<ellipse fill=\"#d3d3d3\" stroke=\"#000000\" cx=\"27\" cy=\"-18\" rx=\"27\" ry=\"18\"/>\n",
       "<text text-anchor=\"start\" x=\"18.5\" y=\"-15.3\" font-family=\"Times,serif\" font-size=\"14.00\" fill=\"#000000\">X</text>\n",
       "<text text-anchor=\"start\" x=\"29.5\" y=\"-15.3\" font-family=\"Times,serif\" baseline-shift=\"sub\" font-size=\"14.00\" fill=\"#000000\">1</text>\n",
       "</g>\n",
       "<!-- theta&#45;&gt;X1 -->\n",
       "<g id=\"edge1\" class=\"edge\">\n",
       "<title>theta&#45;&gt;X1</title>\n",
       "<path fill=\"none\" stroke=\"#000000\" d=\"M54.2854,-72.5708C50.0403,-64.0807 44.8464,-53.6929 40.1337,-44.2674\"/>\n",
       "<polygon fill=\"#000000\" stroke=\"#000000\" points=\"43.237,-42.6477 35.6343,-35.2687 36.976,-45.7782 43.237,-42.6477\"/>\n",
       "</g>\n",
       "<!-- X2 -->\n",
       "<g id=\"node3\" class=\"node\">\n",
       "<title>X2</title>\n",
       "<ellipse fill=\"#d3d3d3\" stroke=\"#000000\" cx=\"99\" cy=\"-18\" rx=\"27\" ry=\"18\"/>\n",
       "<text text-anchor=\"start\" x=\"90.5\" y=\"-15.3\" font-family=\"Times,serif\" font-size=\"14.00\" fill=\"#000000\">X</text>\n",
       "<text text-anchor=\"start\" x=\"101.5\" y=\"-15.3\" font-family=\"Times,serif\" baseline-shift=\"sub\" font-size=\"14.00\" fill=\"#000000\">2</text>\n",
       "</g>\n",
       "<!-- theta&#45;&gt;X2 -->\n",
       "<g id=\"edge2\" class=\"edge\">\n",
       "<title>theta&#45;&gt;X2</title>\n",
       "<path fill=\"none\" stroke=\"#000000\" d=\"M71.7146,-72.5708C75.9597,-64.0807 81.1536,-53.6929 85.8663,-44.2674\"/>\n",
       "<polygon fill=\"#000000\" stroke=\"#000000\" points=\"89.024,-45.7782 90.3657,-35.2687 82.763,-42.6477 89.024,-45.7782\"/>\n",
       "</g>\n",
       "</g>\n",
       "</svg>\n"
      ],
      "text/plain": [
       "<graphviz.dot.Digraph at 0x1a18b3ec90>"
      ]
     },
     "execution_count": 5,
     "metadata": {},
     "output_type": "execute_result"
    }
   ],
   "source": [
    "# Now for two coin tosses\n",
    "gc2 = Digraph('coin_toss_bayes_2')\n",
    "gc2.node('theta', label='<&theta;>')\n",
    "gc2.node('X1', label='<X<sub>1</sub>>', style='filled')\n",
    "gc2.node('X2', label='<X<sub>2</sub>>', style='filled')\n",
    "gc2.edge('theta', 'X1')\n",
    "gc2.edge('theta', 'X2')\n",
    "gc2.render('coin_toss_bayes_2', format='png')\n",
    "gc2"
   ]
  },
  {
   "cell_type": "code",
   "execution_count": 6,
   "metadata": {},
   "outputs": [
    {
     "data": {
      "image/svg+xml": [
       "<?xml version=\"1.0\" encoding=\"UTF-8\" standalone=\"no\"?>\n",
       "<!DOCTYPE svg PUBLIC \"-//W3C//DTD SVG 1.1//EN\"\n",
       " \"http://www.w3.org/Graphics/SVG/1.1/DTD/svg11.dtd\">\n",
       "<!-- Generated by graphviz version 2.40.1 (20161225.0304)\n",
       " -->\n",
       "<!-- Title: coin_toss_bayes_3 Pages: 1 -->\n",
       "<svg width=\"206pt\" height=\"116pt\"\n",
       " viewBox=\"0.00 0.00 206.00 116.00\" xmlns=\"http://www.w3.org/2000/svg\" xmlns:xlink=\"http://www.w3.org/1999/xlink\">\n",
       "<g id=\"graph0\" class=\"graph\" transform=\"scale(1 1) rotate(0) translate(4 112)\">\n",
       "<title>coin_toss_bayes_3</title>\n",
       "<polygon fill=\"#ffffff\" stroke=\"transparent\" points=\"-4,4 -4,-112 202,-112 202,4 -4,4\"/>\n",
       "<!-- theta -->\n",
       "<g id=\"node1\" class=\"node\">\n",
       "<title>theta</title>\n",
       "<ellipse fill=\"none\" stroke=\"#000000\" cx=\"99\" cy=\"-90\" rx=\"27\" ry=\"18\"/>\n",
       "<text text-anchor=\"start\" x=\"95\" y=\"-86.3\" font-family=\"Times,serif\" font-size=\"14.00\" fill=\"#000000\">θ</text>\n",
       "</g>\n",
       "<!-- X1 -->\n",
       "<g id=\"node2\" class=\"node\">\n",
       "<title>X1</title>\n",
       "<ellipse fill=\"#d3d3d3\" stroke=\"#000000\" cx=\"27\" cy=\"-18\" rx=\"27\" ry=\"18\"/>\n",
       "<text text-anchor=\"start\" x=\"18.5\" y=\"-15.3\" font-family=\"Times,serif\" font-size=\"14.00\" fill=\"#000000\">X</text>\n",
       "<text text-anchor=\"start\" x=\"29.5\" y=\"-15.3\" font-family=\"Times,serif\" baseline-shift=\"sub\" font-size=\"14.00\" fill=\"#000000\">1</text>\n",
       "</g>\n",
       "<!-- theta&#45;&gt;X1 -->\n",
       "<g id=\"edge1\" class=\"edge\">\n",
       "<title>theta&#45;&gt;X1</title>\n",
       "<path fill=\"none\" stroke=\"#000000\" d=\"M83.7307,-74.7307C73.803,-64.803 60.6847,-51.6847 49.5637,-40.5637\"/>\n",
       "<polygon fill=\"#000000\" stroke=\"#000000\" points=\"51.7933,-37.8436 42.2473,-33.2473 46.8436,-42.7933 51.7933,-37.8436\"/>\n",
       "</g>\n",
       "<!-- X2 -->\n",
       "<g id=\"node3\" class=\"node\">\n",
       "<title>X2</title>\n",
       "<ellipse fill=\"#d3d3d3\" stroke=\"#000000\" cx=\"99\" cy=\"-18\" rx=\"27\" ry=\"18\"/>\n",
       "<text text-anchor=\"start\" x=\"90.5\" y=\"-15.3\" font-family=\"Times,serif\" font-size=\"14.00\" fill=\"#000000\">X</text>\n",
       "<text text-anchor=\"start\" x=\"101.5\" y=\"-15.3\" font-family=\"Times,serif\" baseline-shift=\"sub\" font-size=\"14.00\" fill=\"#000000\">2</text>\n",
       "</g>\n",
       "<!-- theta&#45;&gt;X2 -->\n",
       "<g id=\"edge2\" class=\"edge\">\n",
       "<title>theta&#45;&gt;X2</title>\n",
       "<path fill=\"none\" stroke=\"#000000\" d=\"M99,-71.8314C99,-64.131 99,-54.9743 99,-46.4166\"/>\n",
       "<polygon fill=\"#000000\" stroke=\"#000000\" points=\"102.5001,-46.4132 99,-36.4133 95.5001,-46.4133 102.5001,-46.4132\"/>\n",
       "</g>\n",
       "<!-- X3 -->\n",
       "<g id=\"node4\" class=\"node\">\n",
       "<title>X3</title>\n",
       "<ellipse fill=\"#d3d3d3\" stroke=\"#000000\" cx=\"171\" cy=\"-18\" rx=\"27\" ry=\"18\"/>\n",
       "<text text-anchor=\"start\" x=\"162.5\" y=\"-15.3\" font-family=\"Times,serif\" font-size=\"14.00\" fill=\"#000000\">X</text>\n",
       "<text text-anchor=\"start\" x=\"173.5\" y=\"-15.3\" font-family=\"Times,serif\" baseline-shift=\"sub\" font-size=\"14.00\" fill=\"#000000\">3</text>\n",
       "</g>\n",
       "<!-- theta&#45;&gt;X3 -->\n",
       "<g id=\"edge3\" class=\"edge\">\n",
       "<title>theta&#45;&gt;X3</title>\n",
       "<path fill=\"none\" stroke=\"#000000\" d=\"M114.2693,-74.7307C124.197,-64.803 137.3153,-51.6847 148.4363,-40.5637\"/>\n",
       "<polygon fill=\"#000000\" stroke=\"#000000\" points=\"151.1564,-42.7933 155.7527,-33.2473 146.2067,-37.8436 151.1564,-42.7933\"/>\n",
       "</g>\n",
       "</g>\n",
       "</svg>\n"
      ],
      "text/plain": [
       "<graphviz.dot.Digraph at 0x1a18b4db90>"
      ]
     },
     "execution_count": 6,
     "metadata": {},
     "output_type": "execute_result"
    }
   ],
   "source": [
    "# Now for three coin tosses\n",
    "gc3 = Digraph('coin_toss_bayes_3')\n",
    "gc3.node('theta', label='<&theta;>')\n",
    "gc3.node('X1', label='<X<sub>1</sub>>', style='filled')\n",
    "gc3.node('X2', label='<X<sub>2</sub>>', style='filled')\n",
    "gc3.node('X3', label='<X<sub>3</sub>>', style='filled')\n",
    "gc3.edge('theta', 'X1')\n",
    "gc3.edge('theta', 'X2')\n",
    "gc3.edge('theta', 'X3')\n",
    "gc3.render('coin_toss_bayes_3', format='png')\n",
    "gc3"
   ]
  },
  {
   "cell_type": "markdown",
   "metadata": {},
   "source": [
    "Because this notation gets a little bit too involved, we introduce the so called [plate notation](https://en.wikipedia.org/wiki/Plate_notation).\n",
    "Whategver is inside the subgrpah indicated by the box is supposed to be repeated as many times as indicated:"
   ]
  },
  {
   "cell_type": "code",
   "execution_count": 7,
   "metadata": {},
   "outputs": [
    {
     "data": {
      "image/svg+xml": [
       "<?xml version=\"1.0\" encoding=\"UTF-8\" standalone=\"no\"?>\n",
       "<!DOCTYPE svg PUBLIC \"-//W3C//DTD SVG 1.1//EN\"\n",
       " \"http://www.w3.org/Graphics/SVG/1.1/DTD/svg11.dtd\">\n",
       "<!-- Generated by graphviz version 2.40.1 (20161225.0304)\n",
       " -->\n",
       "<!-- Title: coin_toss_bayes_plate Pages: 1 -->\n",
       "<svg width=\"94pt\" height=\"155pt\"\n",
       " viewBox=\"0.00 0.00 94.00 155.00\" xmlns=\"http://www.w3.org/2000/svg\" xmlns:xlink=\"http://www.w3.org/1999/xlink\">\n",
       "<g id=\"graph0\" class=\"graph\" transform=\"scale(1 1) rotate(0) translate(4 151)\">\n",
       "<title>coin_toss_bayes_plate</title>\n",
       "<polygon fill=\"#ffffff\" stroke=\"transparent\" points=\"-4,4 -4,-151 90,-151 90,4 -4,4\"/>\n",
       "<g id=\"clust1\" class=\"cluster\">\n",
       "<title>cluster_0</title>\n",
       "<polygon fill=\"none\" stroke=\"#000000\" points=\"8,-8 8,-83 78,-83 78,-8 8,-8\"/>\n",
       "<text text-anchor=\"middle\" x=\"43\" y=\"-15.8\" font-family=\"Times,serif\" font-size=\"14.00\" fill=\"#000000\">n=1,...,N</text>\n",
       "</g>\n",
       "<!-- theta -->\n",
       "<g id=\"node1\" class=\"node\">\n",
       "<title>theta</title>\n",
       "<ellipse fill=\"none\" stroke=\"#000000\" cx=\"43\" cy=\"-129\" rx=\"27\" ry=\"18\"/>\n",
       "<text text-anchor=\"start\" x=\"39\" y=\"-125.3\" font-family=\"Times,serif\" font-size=\"14.00\" fill=\"#000000\">θ</text>\n",
       "</g>\n",
       "<!-- Xn -->\n",
       "<g id=\"node2\" class=\"node\">\n",
       "<title>Xn</title>\n",
       "<ellipse fill=\"#d3d3d3\" stroke=\"#000000\" cx=\"43\" cy=\"-57\" rx=\"27\" ry=\"18\"/>\n",
       "<text text-anchor=\"start\" x=\"34.5\" y=\"-54.3\" font-family=\"Times,serif\" font-size=\"14.00\" fill=\"#000000\">X</text>\n",
       "<text text-anchor=\"start\" x=\"45.5\" y=\"-54.3\" font-family=\"Times,serif\" baseline-shift=\"sub\" font-size=\"14.00\" fill=\"#000000\">n</text>\n",
       "</g>\n",
       "<!-- theta&#45;&gt;Xn -->\n",
       "<g id=\"edge1\" class=\"edge\">\n",
       "<title>theta&#45;&gt;Xn</title>\n",
       "<path fill=\"none\" stroke=\"#000000\" d=\"M43,-110.8314C43,-103.131 43,-93.9743 43,-85.4166\"/>\n",
       "<polygon fill=\"#000000\" stroke=\"#000000\" points=\"46.5001,-85.4132 43,-75.4133 39.5001,-85.4133 46.5001,-85.4132\"/>\n",
       "</g>\n",
       "</g>\n",
       "</svg>\n"
      ],
      "text/plain": [
       "<graphviz.dot.Digraph at 0x1a18b543d0>"
      ]
     },
     "execution_count": 7,
     "metadata": {},
     "output_type": "execute_result"
    }
   ],
   "source": [
    "gcp = Digraph('coin_toss_bayes_plate')\n",
    "gcp.node('theta', label='<&theta;>')\n",
    "with gcp.subgraph(name='cluster_0') as sg:\n",
    "    sg.node('Xn', label='<X<sub>n</sub>>', style='filled')\n",
    "    sg.attr(label='n=1,...,N')\n",
    "    sg.attr(labelloc='b')\n",
    "gcp.edge('theta', 'Xn')\n",
    "gcp.render('coin_toss_bayes_plate', format='png')\n",
    "gcp"
   ]
  },
  {
   "cell_type": "markdown",
   "metadata": {},
   "source": [
    "To carry out Bayesian inference, we need the joint probability density of all variables.\n",
    "It is:\n",
    "$$\n",
    "p(x_1,\\dots,x_N, \\theta) = p(x_{1:N}|\\theta) p(\\theta) = \\left(\\prod_{n=1}p(x_n|\\theta)\\right)p(\\theta),\n",
    "$$\n",
    "where we first used Bayes' rule and then the fact that the coin tosses are independent.\n",
    "We must find the mathematical form of all these expressions.\n",
    "For $\\theta$, we simply have:\n",
    "$$\n",
    "p(\\theta) = 1_{[0,1]}(\\theta),\n",
    "$$\n",
    "where $1_A(x)$ is the indicator function of $A$, i.e., $1_A(x) = 1$ if $x$ is in $A$ and zero otherwise.\n",
    "For the Bernoulli pmf's we have:\n",
    "$$\n",
    "p(X_n = 1|\\theta) = \\theta,\n",
    "$$\n",
    "and\n",
    "$$\n",
    "p(X_n = 0|\\theta) = 1- \\theta.\n",
    "$$\n",
    "So, in a unified way, we can write:\n",
    "$$\n",
    "p(x_n | \\theta) = \\theta^{x_n}(1-\\theta)^{1-x_n}.\n",
    "$$\n",
    "Now, let's re-write the joint pmf:\n",
    "$$\n",
    "p(x_1,\\dots,x_N, \\theta) = \\theta^{\\sum_{n=1}^Nx_n}(1-\\theta)^{N-\\sum_{n=1}^Nx_n}1_{[0,1]}(\\theta),\n",
    "$$\n",
    "which has a nice interpretation as it depends only on the total number of heads $\\sum_{n=1}^Nx_n$.\n",
    "\n",
    "Now, we are in a position to apply Bayes rule to condition on the data.\n",
    "We have:\n",
    "$$\n",
    "p(\\theta|x_{1:N}) = \\frac{p(x_{1:N},\\theta)}{p(x_{1:N})} \\propto p(x_{1:N}, \\theta) = \\theta^{\\sum_{n=1}^Nx_n}(1-\\theta)^{N-\\sum_{n=1}^Nx_n}1_{[0,1]}(\\theta).\n",
    "$$\n",
    "It may be the first time you encounter this, but we have actually discovered a new distribution called the [Beta distribution](https://en.wikipedia.org/wiki/Beta_distribution).\n",
    "This is what the posterior turns out to be.\n",
    "This is one of the few instances where the posterior is analytically available.\n",
    "We will return to the example, once we introduce the Beta distribution."
   ]
  },
  {
   "cell_type": "markdown",
   "metadata": {},
   "source": [
    "## Example: The Beta distribution\n",
    "\n",
    "The Beta distribution is suitable for random variables that take values in $[0,1]$ but are not necessarily uniform.\n",
    "We write:\n",
    "$$\n",
    "X\\sim \\operatorname{Beta}(\\alpha, \\beta),\n",
    "$$\n",
    "where $\\alpha$ and $\\beta$ are positive shape parameters.\n",
    "The interpretation of the parameters is more or less this:\n",
    "+ The bigger $\\alpha$ is, the more the distribution is pulled towards zero.\n",
    "+ The bigger $\\beta$ is, the more the distribution is pulled towards one.\n",
    "\n",
    "The PDF of the Beta is:\n",
    "$$\n",
    "p(x) = \\frac{x^{\\alpha-1}(1-x)^{\\beta - 1}}{B(\\alpha,\\beta)},\n",
    "$$\n",
    "where\n",
    "$$\n",
    "B(\\alpha,\\beta) = \\frac{\\Gamma(\\alpha)\\Gamma(\\beta)}{\\Gamma(\\alpha+\\beta)},\n",
    "$$\n",
    "where $\\Gamma$ is the [Gamma function](https://en.wikipedia.org/wiki/Gamma_function).\n",
    "It's expectation is:\n",
    "$$\n",
    "\\mathbb{E}[X] = \\frac{\\alpha}{\\alpha + \\beta}.\n",
    "$$"
   ]
  },
  {
   "cell_type": "markdown",
   "metadata": {},
   "source": [
    "## Example: Inferring the probability of a coin toss from data (2/2)\n",
    "\n",
    "Now, that we know about the Beta distribution, we can write for the posterior of $\\theta$:\n",
    "$$\n",
    "p(\\theta|x_{1:N}) = \\operatorname{Beta}\\left(\\theta\\middle|1 + \\sum_{n=1}^Nx_n, 1 + N - \\sum_{n=1}^Nx_n\\right).\n",
    "$$\n",
    "where with $\\operatorname{Beta}(\\theta|\\alpha,\\beta)$ we mean the PDF of the $\\operatorname{Beta}(\\alpha,\\beta)$ evaluated at $\\theta$ (this is a very useful notation).\n",
    "So, we see that the $\\alpha$ parameter is just one plus the number of heads and the $\\beta$ parameter is one plus the number of tails.\n",
    "\n",
    "Let's try this out with some fake data."
   ]
  },
  {
   "cell_type": "code",
   "execution_count": 8,
   "metadata": {},
   "outputs": [
    {
     "data": {
      "text/plain": [
       "<matplotlib.legend.Legend at 0x1a192312d0>"
      ]
     },
     "execution_count": 8,
     "metadata": {},
     "output_type": "execute_result"
    },
    {
     "data": {
      "image/png": "[encoded data removed]",
      "text/plain": [
       "<Figure size 432x288 with 1 Axes>"
      ]
     },
     "metadata": {
      "needs_background": "light"
     },
     "output_type": "display_data"
    }
   ],
   "source": [
    "# Take a fake coin which is a little bit biased\n",
    "theta_true = 0.8\n",
    "# This is the random variable corresponding to a coin toss\n",
    "X = st.bernoulli(theta_true)\n",
    "# Sample from it a number of times to generate our data = (x1, ..., xN)\n",
    "N = 200\n",
    "data = X.rvs(size=N)\n",
    "# Now we are ready to calculate the posterior which the Beta we have above\n",
    "alpha = 1.0 + data.sum()\n",
    "beta = 1.0 + N - data.sum()\n",
    "Theta_post = st.beta(alpha, beta)\n",
    "# Now we can plot the posterior PDF for theta\n",
    "fig, ax = plt.subplots()\n",
    "thetas = np.linspace(0, 1, 100)\n",
    "ax.plot([theta_true], [0.0], 'o', markeredgewidth=2, markersize=10, label='True value')\n",
    "ax.plot(thetas, Theta_post.pdf(thetas), label=r'$p(\\theta|x_{1:N})$')\n",
    "ax.set_xlabel(r'$\\theta$')\n",
    "ax.set_title('$N={0:d}$'.format(N))\n",
    "plt.legend(loc='best')"
   ]
  },
  {
   "cell_type": "markdown",
   "metadata": {},
   "source": [
    "### Questions\n",
    "\n",
    "+ Experiment with different values of $\\theta_{\\text{true}}$ and different values of $N$.\n",
    "+ Is the true value always covered by the posterior PDF?"
   ]
  }
 ],
 "metadata": {
  "anaconda-cloud": {},
  "kernelspec": {
   "display_name": "Python 3",
   "language": "python",
   "name": "python3"
  },
  "language_info": {
   "codemirror_mode": {
    "name": "ipython",
    "version": 3
   },
   "file_extension": ".py",
   "mimetype": "text/x-python",
   "name": "python",
   "nbconvert_exporter": "python",
   "pygments_lexer": "ipython3",
   "version": "3.7.7"
  },
  "latex_envs": {
   "bibliofile": "biblio.bib",
   "cite_by": "apalike",
   "current_citInitial": 1,
   "eqLabelWithNumbers": true,
   "eqNumInitial": 0
  },
  "widgets": {
   "state": {
    "968a18c908c6495081a9936faebe0473": {
     "views": [
      {
       "cell_index": 11
      }
     ]
    }
   },
   "version": "1.2.0"
  }
 },
 "nbformat": 4,
 "nbformat_minor": 2
}
